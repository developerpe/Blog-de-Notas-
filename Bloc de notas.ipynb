{
 "cells": [
  {
   "cell_type": "code",
   "execution_count": 7,
   "metadata": {},
   "outputs": [],
   "source": [
    "from tkinter import *\n",
    "from tkinter import filedialog as f\n",
    "from io import open"
   ]
  },
  {
   "cell_type": "code",
   "execution_count": 8,
   "metadata": {},
   "outputs": [
    {
     "data": {
      "text/plain": [
       "''"
      ]
     },
     "execution_count": 8,
     "metadata": {},
     "output_type": "execute_result"
    }
   ],
   "source": [
    "#Configuracion de la raiz de nuestro editor\n",
    "root = Tk()\n",
    "title = \"Editor | Python - Tkinter\"\n",
    "root.title(title)"
   ]
  },
  {
   "cell_type": "code",
   "execution_count": 9,
   "metadata": {},
   "outputs": [],
   "source": [
    "url_file = \"\"\n",
    "#Funciones\n",
    "\n",
    "def new_file():\n",
    "    global url_file\n",
    "    #Borra desde el primer caracter hasta el ultimo\n",
    "    text.delete(1.0,\"end\")\n",
    "    url_file = \"\"\n",
    "    root.title(url_file + title)\n",
    "\n",
    "def open_file():\n",
    "    global url_file\n",
    "    url_file = f.askopenfilename(initialdir = '.', filetype = ((\n",
    "        \"Archivos de texto\",\"*.txt\"\n",
    "    ),), title = \"Open File\")\n",
    "    if url_file != \"\":\n",
    "        file = open(url_file, 'r')\n",
    "        content = file.read()\n",
    "        text.delete(1.0, \"end\")\n",
    "        text.insert('insert',content)\n",
    "        file.close()\n",
    "        root.title(url_file + title)\n",
    "\n",
    "def save_file():\n",
    "    global url_file\n",
    "    if url_file != \"\":\n",
    "        content = text.get(1.0,\"end-1c\")\n",
    "        file = open(url_file,'w+')\n",
    "        file.write(content)\n",
    "        root.title(\"Archivo guardado en \"+url_file + title)\n",
    "        file.close()\n",
    "    else:\n",
    "        file = f.asksaveasfile(title = \"Save file\", mode = \"w\", defaultextension = \".txt\")\n",
    "        if file is not None:\n",
    "            url_file = file.name\n",
    "            content = text.get(1.0,\"end-1c\")\n",
    "            file = open(url_file,'w+')\n",
    "            file.write(content)\n",
    "            root.title(\"Archivo guardado en \"+url_file + title)\n",
    "            file.close()\n",
    "        else:\n",
    "            url_file = \"\"\n",
    "            root.title(\"Guardado cancelado \"+url_file + title)\n",
    "\n",
    "#Menú\n",
    "bar = Menu(root)\n",
    "file_menu = Menu(bar, tearoff = 0)\n",
    "file_menu.add_command(label = \"Nuevo archivo\", command = new_file)\n",
    "file_menu.add_separator()\n",
    "file_menu.add_command(label = \"Abrir archivo\",command = open_file)\n",
    "file_menu.add_separator()\n",
    "file_menu.add_command(label = \"Guardar archivo\",command = save_file)\n",
    "file_menu.add_separator()\n",
    "file_menu.add_command(label = \"Salir\", command = root.quit)"
   ]
  },
  {
   "cell_type": "code",
   "execution_count": 10,
   "metadata": {},
   "outputs": [],
   "source": [
    "bar.add_cascade(menu = file_menu, label = \"Archivo\")"
   ]
  },
  {
   "cell_type": "code",
   "execution_count": 11,
   "metadata": {},
   "outputs": [],
   "source": [
    "#Caja de texto\n",
    "text = Text(root)\n",
    "text.pack(fill = \"both\", expand = 1)\n",
    "text.config(bd = 0, padx = 6, pady = 4, font = (\"Arial\", 14)) "
   ]
  },
  {
   "cell_type": "code",
   "execution_count": null,
   "metadata": {},
   "outputs": [],
   "source": [
    "root.config(menu = bar)\n",
    "root.mainloop()"
   ]
  },
  {
   "cell_type": "code",
   "execution_count": null,
   "metadata": {},
   "outputs": [],
   "source": []
  }
 ],
 "metadata": {
  "kernelspec": {
   "display_name": "Python 3",
   "language": "python",
   "name": "python3"
  },
  "language_info": {
   "codemirror_mode": {
    "name": "ipython",
    "version": 3
   },
   "file_extension": ".py",
   "mimetype": "text/x-python",
   "name": "python",
   "nbconvert_exporter": "python",
   "pygments_lexer": "ipython3",
   "version": "3.6.6"
  }
 },
 "nbformat": 4,
 "nbformat_minor": 2
}
